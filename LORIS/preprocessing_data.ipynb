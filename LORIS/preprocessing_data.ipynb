{
  "nbformat": 4,
  "nbformat_minor": 0,
  "metadata": {
    "colab": {
      "provenance": []
    },
    "kernelspec": {
      "name": "python3",
      "display_name": "Python 3"
    },
    "language_info": {
      "name": "python"
    }
  },
  "cells": [
    {
      "cell_type": "code",
      "execution_count": 20,
      "metadata": {
        "id": "zTboUhQvm4EU"
      },
      "outputs": [],
      "source": [
        "import os\n",
        "import pandas as pd\n",
        "import requests\n",
        "from io import BytesIO\n",
        "from google.colab import files"
      ]
    },
    {
      "cell_type": "markdown",
      "source": [
        "Set directory and create if not present"
      ],
      "metadata": {
        "id": "ZlLvqOyJnYTO"
      }
    },
    {
      "cell_type": "code",
      "source": [
        "DIRECTORY = '/content'\n",
        "os.makedirs(DIRECTORY, exist_ok=True)"
      ],
      "metadata": {
        "id": "m968U-y4nRRU"
      },
      "execution_count": 19,
      "outputs": []
    },
    {
      "cell_type": "markdown",
      "source": [
        "Truncate extreme values for TMB, Age, and NLR to avoid SettingWithCopyWarning.\n",
        "\n"
      ],
      "metadata": {
        "id": "fyYcEKJ4ne4v"
      }
    },
    {
      "cell_type": "code",
      "source": [
        "def truncate_values(df):\n",
        "  df['TMB'] = df['TMB'].clip(upper=50)\n",
        "  df['Age'] = df['Age'].clip(upper=85)\n",
        "  df['NLR'] = df['NLR'].clip(upper=25)\n",
        "\n",
        "  return df"
      ],
      "metadata": {
        "id": "cUrxHngsneEI"
      },
      "execution_count": 3,
      "outputs": []
    },
    {
      "cell_type": "markdown",
      "source": [
        "Select specified columns and truncate extreme values."
      ],
      "metadata": {
        "id": "022hrkbEn3Nv"
      }
    },
    {
      "cell_type": "code",
      "source": [
        "def select_and_truncate_columns(selected_columns, df):\n",
        "  df_selected = df.loc[:, selected_columns].copy()\n",
        "  df_selected = truncate_values(df_selected)\n",
        "\n",
        "  return df_selected"
      ],
      "metadata": {
        "id": "CxFnPQV4n73d"
      },
      "execution_count": 4,
      "outputs": []
    },
    {
      "cell_type": "markdown",
      "source": [
        "Return selected columns based on response presence"
      ],
      "metadata": {
        "id": "pICw0p-DoKXG"
      }
    },
    {
      "cell_type": "code",
      "source": [
        "def get_feature_columns(response_present):\n",
        "  common_features = ['TMB', 'Systemic_therapy_history', 'Albumin', 'NLR', 'Age'] + \\\n",
        "                    [f'CancerType{i}' for i in range(1, 17)]\n",
        "  return common_features + ['Response'] if response_present == 'Response' else common_features\n"
      ],
      "metadata": {
        "id": "PSb4OXl5oO9z"
      },
      "execution_count": 5,
      "outputs": []
    },
    {
      "cell_type": "markdown",
      "source": [
        "Save DataFrame as TSV file."
      ],
      "metadata": {
        "id": "FbxsBG47tpSf"
      }
    },
    {
      "cell_type": "code",
      "source": [
        "def save_to_tsv(df, file_path):\n",
        "  try:\n",
        "      df.to_csv(file_path, sep='\\t', index=False)\n",
        "  except Exception as e:\n",
        "      print(f'Error saving {file_path}: {e}')\n"
      ],
      "metadata": {
        "id": "BNi6oPrRts-d"
      },
      "execution_count": 6,
      "outputs": []
    },
    {
      "cell_type": "markdown",
      "source": [
        "Read an Excel sheet into a DataFrame with error handling."
      ],
      "metadata": {
        "id": "vSy89cnet3sM"
      }
    },
    {
      "cell_type": "code",
      "source": [
        "def read_sheet(file_path, sheet_name):\n",
        "  try:\n",
        "    df = pd.read_excel(excel_file, sheet_name=sheet_name, index_col=0, engine='openpyxl')\n",
        "    print(f'{sheet_name}: Sheet read completed')\n",
        "    return df\n",
        "  except ValueError:\n",
        "    print(f'Error: Sheet {sheet_name} not found.')"
      ],
      "metadata": {
        "id": "U4tfHFVYt4Yf"
      },
      "execution_count": 13,
      "outputs": []
    },
    {
      "cell_type": "markdown",
      "source": [
        "Download the Excel file from a URL and return it as a BytesIO object."
      ],
      "metadata": {
        "id": "5SSHGIGQM7od"
      }
    },
    {
      "cell_type": "code",
      "source": [
        "def download_excel(url):\n",
        "  try:\n",
        "      response = requests.get(url)\n",
        "      response.raise_for_status()\n",
        "      print('Excel file downloaded successfully')\n",
        "      return BytesIO(response.content)\n",
        "  except requests.RequestException as e:\n",
        "      print(f'Error downloading file: {e}')\n"
      ],
      "metadata": {
        "id": "yr3gEe51NDSC"
      },
      "execution_count": 8,
      "outputs": []
    },
    {
      "cell_type": "code",
      "source": [
        "def list_sheets(excel_file):\n",
        "    \"\"\"List available sheet names in the Excel file.\"\"\"\n",
        "    try:\n",
        "        xls = pd.ExcelFile(excel_file, engine='openpyxl')\n",
        "        print('Available sheets:', xls.sheet_names)\n",
        "        return xls.sheet_names\n",
        "    except Exception as e:\n",
        "        print(f'Error reading sheet names: {e}')\n",
        "        return None"
      ],
      "metadata": {
        "id": "5G3UEVPEOmWU"
      },
      "execution_count": 14,
      "outputs": []
    },
    {
      "cell_type": "markdown",
      "source": [
        "URL of the Excel file on GitHub"
      ],
      "metadata": {
        "id": "6tQvqO2ZMusJ"
      }
    },
    {
      "cell_type": "code",
      "source": [
        "EXCEL_URL = 'https://raw.githubusercontent.com/rootchang/LORIS/main/02.Input/AllData.xlsx'"
      ],
      "metadata": {
        "id": "pfJJbGuiMvnq"
      },
      "execution_count": 16,
      "outputs": []
    },
    {
      "cell_type": "markdown",
      "source": [
        "Download and load the raw dataset from Chang et al. (2024) github repository, then preprocess it to generate files for use with the Galaxy Tool.\n",
        "\n",
        "After this step, six files (from the Chowell_train, Chowell_test, and MSK1 datasets) will be downloaded and ready to be used as input for Galaxy's machine learning tools."
      ],
      "metadata": {
        "id": "yrsmiyB6onRh"
      }
    },
    {
      "cell_type": "code",
      "source": [
        "# Download and load the Excel file\n",
        "excel_file = download_excel(EXCEL_URL)\n",
        "\n",
        "if excel_file:  # Proceed if the file was downloaded successfully\n",
        "    available_sheets = list_sheets(excel_file)  # List sheets in the file\n",
        "\n",
        "    # Define the sheets you want to load, ensure they exist in the available sheets\n",
        "    sheets = ['Chowell_train', 'Chowell_test', 'MSK1']\n",
        "    sheets_to_process = [sheet for sheet in sheets if sheet in available_sheets]\n",
        "\n",
        "    for sheet in sheets_to_process:\n",
        "        df = read_sheet(excel_file, sheet)\n",
        "\n",
        "        if df is not None:  # Check if DataFrame was read successfully\n",
        "            for feature_option in ['Response', 'No_Response']:\n",
        "                selected_columns = get_feature_columns(feature_option)\n",
        "                df_selected = select_and_truncate_columns(selected_columns, df)\n",
        "\n",
        "                # Save processed data to file\n",
        "                file_path = os.path.join(DIRECTORY, f'{sheet}_{feature_option}.tsv')\n",
        "                save_to_tsv(df_selected, file_path)\n",
        "\n",
        "                # Download the saved TSV file\n",
        "                print(f'Downloading: {file_path}')\n",
        "                files.download(file_path)  # Trigger download of the TSV file"
      ],
      "metadata": {
        "colab": {
          "base_uri": "https://localhost:8080/",
          "height": 228
        },
        "id": "sclTZzRZotH9",
        "outputId": "7dabf25f-35fc-46c9-eabb-63476fcfbcc5"
      },
      "execution_count": 22,
      "outputs": [
        {
          "output_type": "stream",
          "name": "stdout",
          "text": [
            "Excel file downloaded successfully\n",
            "Available sheets: ['Chowell_train', 'Chowell_test', 'MSK1', 'MSK2', 'Kato_panCancer', 'Shim_NSCLC', 'Vanguri_NSCLC', 'Ravi_NSCLC', 'Pradat_panCancer', 'MSK_nonICB']\n",
            "Chowell_train: Sheet read completed\n",
            "Downloading: /content/Chowell_train_Response.tsv\n"
          ]
        },
        {
          "output_type": "display_data",
          "data": {
            "text/plain": [
              "<IPython.core.display.Javascript object>"
            ],
            "application/javascript": [
              "\n",
              "    async function download(id, filename, size) {\n",
              "      if (!google.colab.kernel.accessAllowed) {\n",
              "        return;\n",
              "      }\n",
              "      const div = document.createElement('div');\n",
              "      const label = document.createElement('label');\n",
              "      label.textContent = `Downloading \"${filename}\": `;\n",
              "      div.appendChild(label);\n",
              "      const progress = document.createElement('progress');\n",
              "      progress.max = size;\n",
              "      div.appendChild(progress);\n",
              "      document.body.appendChild(div);\n",
              "\n",
              "      const buffers = [];\n",
              "      let downloaded = 0;\n",
              "\n",
              "      const channel = await google.colab.kernel.comms.open(id);\n",
              "      // Send a message to notify the kernel that we're ready.\n",
              "      channel.send({})\n",
              "\n",
              "      for await (const message of channel.messages) {\n",
              "        // Send a message to notify the kernel that we're ready.\n",
              "        channel.send({})\n",
              "        if (message.buffers) {\n",
              "          for (const buffer of message.buffers) {\n",
              "            buffers.push(buffer);\n",
              "            downloaded += buffer.byteLength;\n",
              "            progress.value = downloaded;\n",
              "          }\n",
              "        }\n",
              "      }\n",
              "      const blob = new Blob(buffers, {type: 'application/binary'});\n",
              "      const a = document.createElement('a');\n",
              "      a.href = window.URL.createObjectURL(blob);\n",
              "      a.download = filename;\n",
              "      div.appendChild(a);\n",
              "      a.click();\n",
              "      div.remove();\n",
              "    }\n",
              "  "
            ]
          },
          "metadata": {}
        },
        {
          "output_type": "display_data",
          "data": {
            "text/plain": [
              "<IPython.core.display.Javascript object>"
            ],
            "application/javascript": [
              "download(\"download_fd097923-c6c7-4999-9767-7755b7ab3138\", \"Chowell_train_Response.tsv\", 58970)"
            ]
          },
          "metadata": {}
        },
        {
          "output_type": "stream",
          "name": "stdout",
          "text": [
            "Downloading: /content/Chowell_train_No_Response.tsv\n"
          ]
        },
        {
          "output_type": "display_data",
          "data": {
            "text/plain": [
              "<IPython.core.display.Javascript object>"
            ],
            "application/javascript": [
              "\n",
              "    async function download(id, filename, size) {\n",
              "      if (!google.colab.kernel.accessAllowed) {\n",
              "        return;\n",
              "      }\n",
              "      const div = document.createElement('div');\n",
              "      const label = document.createElement('label');\n",
              "      label.textContent = `Downloading \"${filename}\": `;\n",
              "      div.appendChild(label);\n",
              "      const progress = document.createElement('progress');\n",
              "      progress.max = size;\n",
              "      div.appendChild(progress);\n",
              "      document.body.appendChild(div);\n",
              "\n",
              "      const buffers = [];\n",
              "      let downloaded = 0;\n",
              "\n",
              "      const channel = await google.colab.kernel.comms.open(id);\n",
              "      // Send a message to notify the kernel that we're ready.\n",
              "      channel.send({})\n",
              "\n",
              "      for await (const message of channel.messages) {\n",
              "        // Send a message to notify the kernel that we're ready.\n",
              "        channel.send({})\n",
              "        if (message.buffers) {\n",
              "          for (const buffer of message.buffers) {\n",
              "            buffers.push(buffer);\n",
              "            downloaded += buffer.byteLength;\n",
              "            progress.value = downloaded;\n",
              "          }\n",
              "        }\n",
              "      }\n",
              "      const blob = new Blob(buffers, {type: 'application/binary'});\n",
              "      const a = document.createElement('a');\n",
              "      a.href = window.URL.createObjectURL(blob);\n",
              "      a.download = filename;\n",
              "      div.appendChild(a);\n",
              "      a.click();\n",
              "      div.remove();\n",
              "    }\n",
              "  "
            ]
          },
          "metadata": {}
        },
        {
          "output_type": "display_data",
          "data": {
            "text/plain": [
              "<IPython.core.display.Javascript object>"
            ],
            "application/javascript": [
              "download(\"download_cc9d577c-d4f4-4c56-b7f6-3f0730ee3cb7\", \"Chowell_train_No_Response.tsv\", 57033)"
            ]
          },
          "metadata": {}
        },
        {
          "output_type": "stream",
          "name": "stdout",
          "text": [
            "Chowell_test: Sheet read completed\n",
            "Downloading: /content/Chowell_test_Response.tsv\n"
          ]
        },
        {
          "output_type": "display_data",
          "data": {
            "text/plain": [
              "<IPython.core.display.Javascript object>"
            ],
            "application/javascript": [
              "\n",
              "    async function download(id, filename, size) {\n",
              "      if (!google.colab.kernel.accessAllowed) {\n",
              "        return;\n",
              "      }\n",
              "      const div = document.createElement('div');\n",
              "      const label = document.createElement('label');\n",
              "      label.textContent = `Downloading \"${filename}\": `;\n",
              "      div.appendChild(label);\n",
              "      const progress = document.createElement('progress');\n",
              "      progress.max = size;\n",
              "      div.appendChild(progress);\n",
              "      document.body.appendChild(div);\n",
              "\n",
              "      const buffers = [];\n",
              "      let downloaded = 0;\n",
              "\n",
              "      const channel = await google.colab.kernel.comms.open(id);\n",
              "      // Send a message to notify the kernel that we're ready.\n",
              "      channel.send({})\n",
              "\n",
              "      for await (const message of channel.messages) {\n",
              "        // Send a message to notify the kernel that we're ready.\n",
              "        channel.send({})\n",
              "        if (message.buffers) {\n",
              "          for (const buffer of message.buffers) {\n",
              "            buffers.push(buffer);\n",
              "            downloaded += buffer.byteLength;\n",
              "            progress.value = downloaded;\n",
              "          }\n",
              "        }\n",
              "      }\n",
              "      const blob = new Blob(buffers, {type: 'application/binary'});\n",
              "      const a = document.createElement('a');\n",
              "      a.href = window.URL.createObjectURL(blob);\n",
              "      a.download = filename;\n",
              "      div.appendChild(a);\n",
              "      a.click();\n",
              "      div.remove();\n",
              "    }\n",
              "  "
            ]
          },
          "metadata": {}
        },
        {
          "output_type": "display_data",
          "data": {
            "text/plain": [
              "<IPython.core.display.Javascript object>"
            ],
            "application/javascript": [
              "download(\"download_ca3cda01-a7f4-4b7e-a343-5816db8690d0\", \"Chowell_test_Response.tsv\", 31575)"
            ]
          },
          "metadata": {}
        },
        {
          "output_type": "stream",
          "name": "stdout",
          "text": [
            "Downloading: /content/Chowell_test_No_Response.tsv\n"
          ]
        },
        {
          "output_type": "display_data",
          "data": {
            "text/plain": [
              "<IPython.core.display.Javascript object>"
            ],
            "application/javascript": [
              "\n",
              "    async function download(id, filename, size) {\n",
              "      if (!google.colab.kernel.accessAllowed) {\n",
              "        return;\n",
              "      }\n",
              "      const div = document.createElement('div');\n",
              "      const label = document.createElement('label');\n",
              "      label.textContent = `Downloading \"${filename}\": `;\n",
              "      div.appendChild(label);\n",
              "      const progress = document.createElement('progress');\n",
              "      progress.max = size;\n",
              "      div.appendChild(progress);\n",
              "      document.body.appendChild(div);\n",
              "\n",
              "      const buffers = [];\n",
              "      let downloaded = 0;\n",
              "\n",
              "      const channel = await google.colab.kernel.comms.open(id);\n",
              "      // Send a message to notify the kernel that we're ready.\n",
              "      channel.send({})\n",
              "\n",
              "      for await (const message of channel.messages) {\n",
              "        // Send a message to notify the kernel that we're ready.\n",
              "        channel.send({})\n",
              "        if (message.buffers) {\n",
              "          for (const buffer of message.buffers) {\n",
              "            buffers.push(buffer);\n",
              "            downloaded += buffer.byteLength;\n",
              "            progress.value = downloaded;\n",
              "          }\n",
              "        }\n",
              "      }\n",
              "      const blob = new Blob(buffers, {type: 'application/binary'});\n",
              "      const a = document.createElement('a');\n",
              "      a.href = window.URL.createObjectURL(blob);\n",
              "      a.download = filename;\n",
              "      div.appendChild(a);\n",
              "      a.click();\n",
              "      div.remove();\n",
              "    }\n",
              "  "
            ]
          },
          "metadata": {}
        },
        {
          "output_type": "display_data",
          "data": {
            "text/plain": [
              "<IPython.core.display.Javascript object>"
            ],
            "application/javascript": [
              "download(\"download_ec5e0f64-5d60-4a09-8dd0-1b5885175671\", \"Chowell_test_No_Response.tsv\", 30536)"
            ]
          },
          "metadata": {}
        },
        {
          "output_type": "stream",
          "name": "stdout",
          "text": [
            "MSK1: Sheet read completed\n",
            "Downloading: /content/MSK1_Response.tsv\n"
          ]
        },
        {
          "output_type": "display_data",
          "data": {
            "text/plain": [
              "<IPython.core.display.Javascript object>"
            ],
            "application/javascript": [
              "\n",
              "    async function download(id, filename, size) {\n",
              "      if (!google.colab.kernel.accessAllowed) {\n",
              "        return;\n",
              "      }\n",
              "      const div = document.createElement('div');\n",
              "      const label = document.createElement('label');\n",
              "      label.textContent = `Downloading \"${filename}\": `;\n",
              "      div.appendChild(label);\n",
              "      const progress = document.createElement('progress');\n",
              "      progress.max = size;\n",
              "      div.appendChild(progress);\n",
              "      document.body.appendChild(div);\n",
              "\n",
              "      const buffers = [];\n",
              "      let downloaded = 0;\n",
              "\n",
              "      const channel = await google.colab.kernel.comms.open(id);\n",
              "      // Send a message to notify the kernel that we're ready.\n",
              "      channel.send({})\n",
              "\n",
              "      for await (const message of channel.messages) {\n",
              "        // Send a message to notify the kernel that we're ready.\n",
              "        channel.send({})\n",
              "        if (message.buffers) {\n",
              "          for (const buffer of message.buffers) {\n",
              "            buffers.push(buffer);\n",
              "            downloaded += buffer.byteLength;\n",
              "            progress.value = downloaded;\n",
              "          }\n",
              "        }\n",
              "      }\n",
              "      const blob = new Blob(buffers, {type: 'application/binary'});\n",
              "      const a = document.createElement('a');\n",
              "      a.href = window.URL.createObjectURL(blob);\n",
              "      a.download = filename;\n",
              "      div.appendChild(a);\n",
              "      a.click();\n",
              "      div.remove();\n",
              "    }\n",
              "  "
            ]
          },
          "metadata": {}
        },
        {
          "output_type": "display_data",
          "data": {
            "text/plain": [
              "<IPython.core.display.Javascript object>"
            ],
            "application/javascript": [
              "download(\"download_2bd162b4-4011-4b3e-b19d-b6a82b46fff0\", \"MSK1_Response.tsv\", 24731)"
            ]
          },
          "metadata": {}
        },
        {
          "output_type": "stream",
          "name": "stdout",
          "text": [
            "Downloading: /content/MSK1_No_Response.tsv\n"
          ]
        },
        {
          "output_type": "display_data",
          "data": {
            "text/plain": [
              "<IPython.core.display.Javascript object>"
            ],
            "application/javascript": [
              "\n",
              "    async function download(id, filename, size) {\n",
              "      if (!google.colab.kernel.accessAllowed) {\n",
              "        return;\n",
              "      }\n",
              "      const div = document.createElement('div');\n",
              "      const label = document.createElement('label');\n",
              "      label.textContent = `Downloading \"${filename}\": `;\n",
              "      div.appendChild(label);\n",
              "      const progress = document.createElement('progress');\n",
              "      progress.max = size;\n",
              "      div.appendChild(progress);\n",
              "      document.body.appendChild(div);\n",
              "\n",
              "      const buffers = [];\n",
              "      let downloaded = 0;\n",
              "\n",
              "      const channel = await google.colab.kernel.comms.open(id);\n",
              "      // Send a message to notify the kernel that we're ready.\n",
              "      channel.send({})\n",
              "\n",
              "      for await (const message of channel.messages) {\n",
              "        // Send a message to notify the kernel that we're ready.\n",
              "        channel.send({})\n",
              "        if (message.buffers) {\n",
              "          for (const buffer of message.buffers) {\n",
              "            buffers.push(buffer);\n",
              "            downloaded += buffer.byteLength;\n",
              "            progress.value = downloaded;\n",
              "          }\n",
              "        }\n",
              "      }\n",
              "      const blob = new Blob(buffers, {type: 'application/binary'});\n",
              "      const a = document.createElement('a');\n",
              "      a.href = window.URL.createObjectURL(blob);\n",
              "      a.download = filename;\n",
              "      div.appendChild(a);\n",
              "      a.click();\n",
              "      div.remove();\n",
              "    }\n",
              "  "
            ]
          },
          "metadata": {}
        },
        {
          "output_type": "display_data",
          "data": {
            "text/plain": [
              "<IPython.core.display.Javascript object>"
            ],
            "application/javascript": [
              "download(\"download_f18844c4-ced2-48fd-abd0-cdcf5ed7509d\", \"MSK1_No_Response.tsv\", 23816)"
            ]
          },
          "metadata": {}
        }
      ]
    }
  ]
}